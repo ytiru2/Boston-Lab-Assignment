{
 "metadata": {
  "name": "",
  "signature": "sha256:c55837d822fb294517568c44e7ad8cffe13952fbed809c7bf169ecca8331e144"
 },
 "nbformat": 3,
 "nbformat_minor": 0,
 "worksheets": [
  {
   "cells": [
    {
     "cell_type": "code",
     "collapsed": false,
     "input": [
      "from sklearn import datasets\n",
      "import pandas as pd\n",
      "from sklearn.preprocessing import StandardScaler\n",
      "from sklearn.cross_validation import train_test_split\n",
      "from sklearn.metrics import mean_squared_error\n",
      "from sklearn.metrics import r2_score\n",
      "from sklearn.linear_model import LinearRegression\n",
      "from sklearn.linear_model import Lasso"
     ],
     "language": "python",
     "metadata": {},
     "outputs": [],
     "prompt_number": 1
    },
    {
     "cell_type": "code",
     "collapsed": false,
     "input": [
      "bean = datasets.load_boston()\n",
      "print bean.DESCR\n"
     ],
     "language": "python",
     "metadata": {},
     "outputs": [
      {
       "output_type": "stream",
       "stream": "stdout",
       "text": [
        "Boston House Prices dataset\n",
        "\n",
        "Notes\n",
        "------\n",
        "Data Set Characteristics:  \n",
        "\n",
        "    :Number of Instances: 506 \n",
        "\n",
        "    :Number of Attributes: 13 numeric/categorical predictive\n",
        "    \n",
        "    :Median Value (attribute 14) is usually the target\n",
        "\n",
        "    :Attribute Information (in order):\n",
        "        - CRIM     per capita crime rate by town\n",
        "        - ZN       proportion of residential land zoned for lots over 25,000 sq.ft.\n",
        "        - INDUS    proportion of non-retail business acres per town\n",
        "        - CHAS     Charles River dummy variable (= 1 if tract bounds river; 0 otherwise)\n",
        "        - NOX      nitric oxides concentration (parts per 10 million)\n",
        "        - RM       average number of rooms per dwelling\n",
        "        - AGE      proportion of owner-occupied units built prior to 1940\n",
        "        - DIS      weighted distances to five Boston employment centres\n",
        "        - RAD      index of accessibility to radial highways\n",
        "        - TAX      full-value property-tax rate per $10,000\n",
        "        - PTRATIO  pupil-teacher ratio by town\n",
        "        - B        1000(Bk - 0.63)^2 where Bk is the proportion of blacks by town\n",
        "        - LSTAT    % lower status of the population\n",
        "        - MEDV     Median value of owner-occupied homes in $1000's\n",
        "\n",
        "    :Missing Attribute Values: None\n",
        "\n",
        "    :Creator: Harrison, D. and Rubinfeld, D.L.\n",
        "\n",
        "This is a copy of UCI ML housing dataset.\n",
        "http://archive.ics.uci.edu/ml/datasets/Housing\n",
        "\n",
        "\n",
        "This dataset was taken from the StatLib library which is maintained at Carnegie Mellon University.\n",
        "\n",
        "The Boston house-price data of Harrison, D. and Rubinfeld, D.L. 'Hedonic\n",
        "prices and the demand for clean air', J. Environ. Economics & Management,\n",
        "vol.5, 81-102, 1978.   Used in Belsley, Kuh & Welsch, 'Regression diagnostics\n",
        "...', Wiley, 1980.   N.B. Various transformations are used in the table on\n",
        "pages 244-261 of the latter.\n",
        "\n",
        "The Boston house-price data has been used in many machine learning papers that address regression\n",
        "problems.   \n",
        "     \n",
        "**References**\n",
        "\n",
        "   - Belsley, Kuh & Welsch, 'Regression diagnostics: Identifying Influential Data and Sources of Collinearity', Wiley, 1980. 244-261.\n",
        "   - Quinlan,R. (1993). Combining Instance-Based and Model-Based Learning. In Proceedings on the Tenth International Conference of Machine Learning, 236-243, University of Massachusetts, Amherst. Morgan Kaufmann.\n",
        "   - many more! (see http://archive.ics.uci.edu/ml/datasets/Housing)\n",
        "\n"
       ]
      }
     ],
     "prompt_number": 2
    },
    {
     "cell_type": "code",
     "collapsed": false,
     "input": [
      "def load_boston():\n",
      "    scaler = StandardScaler()\n",
      "    boston = datasets.load_boston()\n",
      "    X=boston.data\n",
      "    y=boston.target\n",
      "    X = scaler.fit_transform(X)\n",
      "    return train_test_split(X,y)"
     ],
     "language": "python",
     "metadata": {},
     "outputs": [],
     "prompt_number": 3
    },
    {
     "cell_type": "code",
     "collapsed": false,
     "input": [
      "X_train, X_test, y_train, y_test = load_boston()"
     ],
     "language": "python",
     "metadata": {},
     "outputs": [],
     "prompt_number": 6
    },
    {
     "cell_type": "code",
     "collapsed": false,
     "input": [
      "X_train.shape"
     ],
     "language": "python",
     "metadata": {},
     "outputs": [
      {
       "metadata": {},
       "output_type": "pyout",
       "prompt_number": 7,
       "text": [
        "(379L, 13L)"
       ]
      }
     ],
     "prompt_number": 7
    },
    {
     "cell_type": "code",
     "collapsed": false,
     "input": [
      "clf = LinearRegression()\n",
      "clf.fit(X_train, y_train)"
     ],
     "language": "python",
     "metadata": {},
     "outputs": [
      {
       "metadata": {},
       "output_type": "pyout",
       "prompt_number": 8,
       "text": [
        "LinearRegression(copy_X=True, fit_intercept=True, normalize=False)"
       ]
      }
     ],
     "prompt_number": 8
    },
    {
     "cell_type": "code",
     "collapsed": false,
     "input": [
      "zip (y_test, clf.predict(X_test))"
     ],
     "language": "python",
     "metadata": {},
     "outputs": [
      {
       "metadata": {},
       "output_type": "pyout",
       "prompt_number": 9,
       "text": [
        "[(18.699999999999999, 17.659154832700128),\n",
        " (20.800000000000001, 23.309128866589944),\n",
        " (19.800000000000001, 22.06740488361223),\n",
        " (26.699999999999999, 32.952935825021108),\n",
        " (27.5, 18.54009749746368),\n",
        " (25.0, 22.284365260940685),\n",
        " (10.199999999999999, 15.967610872508319),\n",
        " (33.200000000000003, 31.838542034441037),\n",
        " (35.399999999999999, 30.286397762325379),\n",
        " (21.0, 23.463266593054389),\n",
        " (18.899999999999999, 14.584842202762449),\n",
        " (19.399999999999999, 23.49055209950901),\n",
        " (19.5, 20.52306623442572),\n",
        " (19.5, 16.613913147917273),\n",
        " (21.699999999999999, 23.045735524037806),\n",
        " (21.600000000000001, 24.959863983029305),\n",
        " (21.199999999999999, 21.425426624878124),\n",
        " (15.0, 14.611793682255104),\n",
        " (36.5, 35.643719851741196),\n",
        " (50.0, 41.782698128222833),\n",
        " (22.300000000000001, 26.644838738636729),\n",
        " (22.0, 26.965220951035334),\n",
        " (24.600000000000001, 25.222021548277947),\n",
        " (24.399999999999999, 24.412298566400807),\n",
        " (18.899999999999999, 18.686905748630075),\n",
        " (15.199999999999999, 12.020772162738366),\n",
        " (10.800000000000001, 10.992889732616879),\n",
        " (17.800000000000001, 17.270330319192237),\n",
        " (19.100000000000001, 19.442566631953554),\n",
        " (20.600000000000001, 22.571877836542573),\n",
        " (22.600000000000001, 26.706900200938435),\n",
        " (20.5, 23.897074512331784),\n",
        " (21.100000000000001, 22.003717324347871),\n",
        " (36.399999999999999, 32.84047063632844),\n",
        " (31.5, 31.662570620470468),\n",
        " (17.800000000000001, 16.020421060178045),\n",
        " (15.199999999999999, 19.036102938178757),\n",
        " (7.0, -5.835937798611198),\n",
        " (20.0, 22.374651400514217),\n",
        " (18.199999999999999, 18.654760976594574),\n",
        " (11.699999999999999, 15.785982861874176),\n",
        " (15.699999999999999, 13.416077549199425),\n",
        " (38.700000000000003, 35.160321045827644),\n",
        " (33.799999999999997, 34.566264040912344),\n",
        " (21.899999999999999, 16.234397023863409),\n",
        " (16.5, 10.413160145402177),\n",
        " (11.699999999999999, 14.233883948409183),\n",
        " (19.300000000000001, 20.045889622665772),\n",
        " (34.600000000000001, 33.857006192281489),\n",
        " (22.399999999999999, 22.69701835260463),\n",
        " (23.0, 20.130666130799604),\n",
        " (23.100000000000001, 22.839732663877328),\n",
        " (17.5, 16.948227171965556),\n",
        " (18.800000000000001, 19.987855225200441),\n",
        " (23.300000000000001, 26.743804883138203),\n",
        " (15.300000000000001, 21.919779726237714),\n",
        " (15.6, 13.104423454786366),\n",
        " (24.800000000000001, 25.979553903021909),\n",
        " (33.399999999999999, 28.893459130559986),\n",
        " (20.0, 20.353466756151651),\n",
        " (21.899999999999999, 23.757852429885212),\n",
        " (28.199999999999999, 31.992370796039712),\n",
        " (22.199999999999999, 25.911279483753045),\n",
        " (50.0, 43.692110173624457),\n",
        " (19.800000000000001, 18.318024252149193),\n",
        " (22.0, 27.401724527325136),\n",
        " (30.100000000000001, 29.647521970223277),\n",
        " (13.300000000000001, 14.975268635146204),\n",
        " (22.800000000000001, 26.418741939159073),\n",
        " (18.5, 12.923847712996626),\n",
        " (15.6, 12.34425178576995),\n",
        " (25.0, 28.993290766346803),\n",
        " (20.600000000000001, 22.530298621866422),\n",
        " (20.600000000000001, 19.665540245581678),\n",
        " (37.200000000000003, 32.816502724412715),\n",
        " (17.899999999999999, 0.26312788394384157),\n",
        " (46.0, 40.190724535252457),\n",
        " (29.600000000000001, 24.444737849428975),\n",
        " (18.5, 25.209385378744724),\n",
        " (31.600000000000001, 32.397455599564751),\n",
        " (13.800000000000001, -0.35611427996408906),\n",
        " (20.199999999999999, 22.752001802125893),\n",
        " (20.0, 18.710800235295228),\n",
        " (19.600000000000001, 17.565175482990306),\n",
        " (22.800000000000001, 28.76161253937682),\n",
        " (23.399999999999999, 24.23682435430241),\n",
        " (34.899999999999999, 29.476647787985144),\n",
        " (21.699999999999999, 20.900273164249569),\n",
        " (23.100000000000001, 24.875715542702743),\n",
        " (20.399999999999999, 23.220547116599509),\n",
        " (31.0, 33.96632387505192),\n",
        " (17.199999999999999, 15.591551259280777),\n",
        " (39.799999999999997, 33.963860731351559),\n",
        " (19.5, 19.922925805610344),\n",
        " (24.5, 27.124770847802957),\n",
        " (18.100000000000001, 16.897400399541318),\n",
        " (20.300000000000001, 22.665974230395708),\n",
        " (24.5, 20.813080000651681),\n",
        " (12.699999999999999, 12.478384444146224),\n",
        " (23.199999999999999, 22.111965879685496),\n",
        " (13.1, 13.907360938966246),\n",
        " (19.899999999999999, 19.257205557020377),\n",
        " (14.5, 17.339134984262433),\n",
        " (50.0, 39.797425087073435),\n",
        " (50.0, 35.472985988240929),\n",
        " (37.899999999999999, 33.580643311441534),\n",
        " (19.399999999999999, 19.275225381778476),\n",
        " (21.699999999999999, 21.855078097227612),\n",
        " (50.0, 24.922792390634438),\n",
        " (24.800000000000001, 25.4500657651454),\n",
        " (17.399999999999999, 17.439886765967188),\n",
        " (14.1, 17.447839516874303),\n",
        " (14.9, 17.506068169358748),\n",
        " (50.0, 37.041225604151187),\n",
        " (32.0, 32.953563844179612),\n",
        " (24.300000000000001, 29.502214199880875),\n",
        " (36.200000000000003, 27.952080458499648),\n",
        " (21.399999999999999, 20.431661821223749),\n",
        " (13.800000000000001, 11.760510244350733),\n",
        " (14.1, 17.287741324202383),\n",
        " (24.699999999999999, 24.556931201000292),\n",
        " (10.9, 13.523341648962054),\n",
        " (28.699999999999999, 30.758835496226908),\n",
        " (22.5, 17.422692518549788),\n",
        " (18.899999999999999, 23.913927945800989),\n",
        " (17.800000000000001, 19.876826203019192),\n",
        " (19.600000000000001, 19.533407503519559)]"
       ]
      }
     ],
     "prompt_number": 9
    },
    {
     "cell_type": "code",
     "collapsed": false,
     "input": [
      "from sklearn.datasets import *\n",
      "data = load_boston()\n",
      "print data.DESCR"
     ],
     "language": "python",
     "metadata": {},
     "outputs": [
      {
       "output_type": "stream",
       "stream": "stdout",
       "text": [
        "Boston House Prices dataset\n",
        "\n",
        "Notes\n",
        "------\n",
        "Data Set Characteristics:  \n",
        "\n",
        "    :Number of Instances: 506 \n",
        "\n",
        "    :Number of Attributes: 13 numeric/categorical predictive\n",
        "    \n",
        "    :Median Value (attribute 14) is usually the target\n",
        "\n",
        "    :Attribute Information (in order):\n",
        "        - CRIM     per capita crime rate by town\n",
        "        - ZN       proportion of residential land zoned for lots over 25,000 sq.ft.\n",
        "        - INDUS    proportion of non-retail business acres per town\n",
        "        - CHAS     Charles River dummy variable (= 1 if tract bounds river; 0 otherwise)\n",
        "        - NOX      nitric oxides concentration (parts per 10 million)\n",
        "        - RM       average number of rooms per dwelling\n",
        "        - AGE      proportion of owner-occupied units built prior to 1940\n",
        "        - DIS      weighted distances to five Boston employment centres\n",
        "        - RAD      index of accessibility to radial highways\n",
        "        - TAX      full-value property-tax rate per $10,000\n",
        "        - PTRATIO  pupil-teacher ratio by town\n",
        "        - B        1000(Bk - 0.63)^2 where Bk is the proportion of blacks by town\n",
        "        - LSTAT    % lower status of the population\n",
        "        - MEDV     Median value of owner-occupied homes in $1000's\n",
        "\n",
        "    :Missing Attribute Values: None\n",
        "\n",
        "    :Creator: Harrison, D. and Rubinfeld, D.L.\n",
        "\n",
        "This is a copy of UCI ML housing dataset.\n",
        "http://archive.ics.uci.edu/ml/datasets/Housing\n",
        "\n",
        "\n",
        "This dataset was taken from the StatLib library which is maintained at Carnegie Mellon University.\n",
        "\n",
        "The Boston house-price data of Harrison, D. and Rubinfeld, D.L. 'Hedonic\n",
        "prices and the demand for clean air', J. Environ. Economics & Management,\n",
        "vol.5, 81-102, 1978.   Used in Belsley, Kuh & Welsch, 'Regression diagnostics\n",
        "...', Wiley, 1980.   N.B. Various transformations are used in the table on\n",
        "pages 244-261 of the latter.\n",
        "\n",
        "The Boston house-price data has been used in many machine learning papers that address regression\n",
        "problems.   \n",
        "     \n",
        "**References**\n",
        "\n",
        "   - Belsley, Kuh & Welsch, 'Regression diagnostics: Identifying Influential Data and Sources of Collinearity', Wiley, 1980. 244-261.\n",
        "   - Quinlan,R. (1993). Combining Instance-Based and Model-Based Learning. In Proceedings on the Tenth International Conference of Machine Learning, 236-243, University of Massachusetts, Amherst. Morgan Kaufmann.\n",
        "   - many more! (see http://archive.ics.uci.edu/ml/datasets/Housing)\n",
        "\n"
       ]
      }
     ],
     "prompt_number": 10
    },
    {
     "cell_type": "code",
     "collapsed": false,
     "input": [
      "#r2_score\n",
      "from sklearn.datasets import *\n",
      "from sklearn.linear_model import LinearRegression\n",
      "\n",
      "data = load_boston()\n",
      "model = LinearRegression()\n",
      "model.fit(data.data, data.target)\n",
      "print model.__dict__\n",
      "print model.score(data.data, data.target)"
     ],
     "language": "python",
     "metadata": {},
     "outputs": [
      {
       "output_type": "stream",
       "stream": "stdout",
       "text": [
        "{'normalize': False, 'intercept_': 36.491103280361422, 'residues_': 11080.276284149875, 'fit_intercept': True, 'coef_': array([ -1.07170557e-01,   4.63952195e-02,   2.08602395e-02,\n",
        "         2.68856140e+00,  -1.77957587e+01,   3.80475246e+00,\n",
        "         7.51061703e-04,  -1.47575880e+00,   3.05655038e-01,\n",
        "        -1.23293463e-02,  -9.53463555e-01,   9.39251272e-03,\n",
        "        -5.25466633e-01]), 'copy_X': True, 'rank_': 13, 'singular_': array([  3.94958310e+03,   1.77662274e+03,   6.42864253e+02,\n",
        "         3.66980826e+02,   1.59116390e+02,   1.18692322e+02,\n",
        "         9.01718207e+01,   6.93889529e+01,   4.06572735e+01,\n",
        "         2.44223087e+01,   1.13502686e+01,   5.50918200e+00,\n",
        "         1.24178413e+00])}\n",
        "0.740607742865\n"
       ]
      }
     ],
     "prompt_number": 11
    },
    {
     "cell_type": "code",
     "collapsed": false,
     "input": [
      "from sklearn.datasets import *\n",
      "from sklearn.cross_validation import train_test_split\n",
      "\n",
      "data = load_boston()\n",
      "\n",
      "X_train, X_test, y_train, y_test = train_test_split(data.data, data.target, train_size=0.5)\n",
      "model = LinearRegression()\n",
      "model.fit(X_train, y_train)\n",
      "print \"Train R2 %f\" %model.score(X_train, y_train)\n",
      "print \"Test R2 %f\" %model.score(X_test, y_test)"
     ],
     "language": "python",
     "metadata": {},
     "outputs": [
      {
       "output_type": "stream",
       "stream": "stdout",
       "text": [
        "Train R2 0.772765\n",
        "Test R2 0.666529\n"
       ]
      }
     ],
     "prompt_number": 12
    },
    {
     "cell_type": "code",
     "collapsed": false,
     "input": [
      "#mean sqared error\n",
      "from sklearn.metrics import mean_squared_error\n",
      "y_true = [5, -0.6, 4, 9]\n",
      "y_pred = [5.5, 0.7, 3, 7]\n",
      "mean_squared_error(y_true, y_pred)"
     ],
     "language": "python",
     "metadata": {},
     "outputs": [
      {
       "metadata": {},
       "output_type": "pyout",
       "prompt_number": 14,
       "text": [
        "1.7349999999999999"
       ]
      }
     ],
     "prompt_number": 14
    },
    {
     "cell_type": "code",
     "collapsed": false,
     "input": [
      "y_true = [[0.4, 4],[-3, 2],[4, -4]]\n",
      "y_pred = [[0, 4],[-1, 5],[7, -5]]\n",
      "mean_squared_error(y_true, y_pred)"
     ],
     "language": "python",
     "metadata": {},
     "outputs": [
      {
       "metadata": {},
       "output_type": "pyout",
       "prompt_number": 16,
       "text": [
        "3.8599999999999999"
       ]
      }
     ],
     "prompt_number": 16
    },
    {
     "cell_type": "code",
     "collapsed": false,
     "input": [
      "#using linear regularization sklearn.linear_model.Lasso\n",
      "from sklearn import linear_model\n",
      "clf = linear_model.Lasso(alpha=0.1)\n",
      "clf.fit([[1,2], [1, 3], [3, 2]], [1, 2, 3])"
     ],
     "language": "python",
     "metadata": {},
     "outputs": [
      {
       "metadata": {},
       "output_type": "pyout",
       "prompt_number": 20,
       "text": [
        "Lasso(alpha=0.1, copy_X=True, fit_intercept=True, max_iter=1000,\n",
        "   normalize=False, positive=False, precompute='auto', tol=0.0001,\n",
        "   warm_start=False)"
       ]
      }
     ],
     "prompt_number": 20
    },
    {
     "cell_type": "code",
     "collapsed": false,
     "input": [
      "print(clf.coef_)"
     ],
     "language": "python",
     "metadata": {},
     "outputs": [
      {
       "output_type": "stream",
       "stream": "stdout",
       "text": [
        "[ 0.69998474  0.24998474]\n"
       ]
      }
     ],
     "prompt_number": 21
    },
    {
     "cell_type": "code",
     "collapsed": false,
     "input": [
      "print(clf.intercept_)"
     ],
     "language": "python",
     "metadata": {},
     "outputs": [
      {
       "output_type": "stream",
       "stream": "stdout",
       "text": [
        "0.250061035156\n"
       ]
      }
     ],
     "prompt_number": 22
    },
    {
     "cell_type": "code",
     "collapsed": false,
     "input": [
      "from sklearn import linear_model\n",
      "clfA = linear_model.Lasso(alpha=1.0)\n",
      "clfA.fit([[0,1], [1, 3], [1, 2]], [0, 1, 2])"
     ],
     "language": "python",
     "metadata": {},
     "outputs": [
      {
       "metadata": {},
       "output_type": "pyout",
       "prompt_number": 23,
       "text": [
        "Lasso(alpha=1.0, copy_X=True, fit_intercept=True, max_iter=1000,\n",
        "   normalize=False, positive=False, precompute='auto', tol=0.0001,\n",
        "   warm_start=False)"
       ]
      }
     ],
     "prompt_number": 23
    },
    {
     "cell_type": "code",
     "collapsed": false,
     "input": [
      "clfB = linear_model.Lasso(alpha=10.0)\n",
      "clfB.fit([[1,2], [1, 2], [2, 1]], [0, 1, 2])"
     ],
     "language": "python",
     "metadata": {},
     "outputs": [
      {
       "metadata": {},
       "output_type": "pyout",
       "prompt_number": 24,
       "text": [
        "Lasso(alpha=10.0, copy_X=True, fit_intercept=True, max_iter=1000,\n",
        "   normalize=False, positive=False, precompute='auto', tol=0.0001,\n",
        "   warm_start=False)"
       ]
      }
     ],
     "prompt_number": 24
    },
    {
     "cell_type": "code",
     "collapsed": false,
     "input": [
      "from sklearn.linear_model import Ridge\n",
      "import numpy as np\n",
      "n_samples, n_features = 10, 5\n",
      "np.random.seed(0)\n",
      "y = np.random.randn(n_samples)\n",
      "X = np.random.randn(n_samples, n_features)\n",
      "clf = Ridge(alpha=1.0)\n",
      "clf.fit(X, y) \n",
      "Ridge(alpha=1.0, copy_X=True, fit_intercept=True, max_iter=None,\n",
      "      normalize=False, solver='auto', tol=0.001)"
     ],
     "language": "python",
     "metadata": {},
     "outputs": [
      {
       "metadata": {},
       "output_type": "pyout",
       "prompt_number": 25,
       "text": [
        "Ridge(alpha=1.0, copy_X=True, fit_intercept=True, max_iter=None,\n",
        "   normalize=False, solver='auto', tol=0.001)"
       ]
      }
     ],
     "prompt_number": 25
    },
    {
     "cell_type": "code",
     "collapsed": false,
     "input": [
      "#Professor I am late by 10 minutes,please consider my apologies"
     ],
     "language": "python",
     "metadata": {},
     "outputs": []
    }
   ],
   "metadata": {}
  }
 ]
}